{
 "cells": [
  {
   "cell_type": "code",
   "execution_count": 1,
   "metadata": {},
   "outputs": [],
   "source": [
    "import pandas as pd\n",
    "file = pd.read_csv('textNtags.csv')\n",
    "data = pd.DataFrame(file)\n",
    "full_data = data\n",
    "\n",
    "from sklearn.model_selection import train_test_split\n",
    "data = full_data.sample(n = 5000, replace = False)\n",
    "X_train, X_test, y_train, y_test = train_test_split(data['text'], data['Tag'], test_size=0.10, random_state=42)"
   ]
  },
  {
   "cell_type": "code",
   "execution_count": null,
   "metadata": {},
   "outputs": [
    {
     "name": "stderr",
     "output_type": "stream",
     "text": [
      "/home/mv/.local/lib/python3.10/site-packages/sklearn/feature_extraction/text.py:525: UserWarning: The parameter 'token_pattern' will not be used since 'tokenizer' is not None'\n",
      "  warnings.warn(\n"
     ]
    }
   ],
   "source": [
    "from sklearn.feature_extraction.text import TfidfVectorizer\n",
    "vectorizer = TfidfVectorizer(min_df=0.00009, max_features=200000, smooth_idf=True, norm=\"l2\", \n",
    "tokenizer = lambda x: x.split(), sublinear_tf=False, ngram_range=(1,3))\n",
    "\n",
    "x_train_multilabel = vectorizer.fit_transform(X_train)\n",
    "x_test_multilabel = vectorizer.transform(X_test)"
   ]
  },
  {
   "cell_type": "code",
   "execution_count": null,
   "metadata": {},
   "outputs": [],
   "source": [
    "# import dill\n",
    "# dill.pickle(vectorizer,open('vectorizer.pkl','wb'))"
   ]
  },
  {
   "cell_type": "code",
   "execution_count": null,
   "metadata": {},
   "outputs": [
    {
     "name": "stderr",
     "output_type": "stream",
     "text": [
      "/home/mv/.local/lib/python3.10/site-packages/scipy/__init__.py:146: UserWarning: A NumPy version >=1.16.5 and <1.23.0 is required for this version of SciPy (detected version 1.26.2\n",
      "  warnings.warn(f\"A NumPy version >={np_minversion} and <{np_maxversion}\"\n",
      "/home/mv/.local/lib/python3.10/site-packages/scipy/__init__.py:146: UserWarning: A NumPy version >=1.16.5 and <1.23.0 is required for this version of SciPy (detected version 1.26.2\n",
      "  warnings.warn(f\"A NumPy version >={np_minversion} and <{np_maxversion}\"\n",
      "/home/mv/.local/lib/python3.10/site-packages/scipy/__init__.py:146: UserWarning: A NumPy version >=1.16.5 and <1.23.0 is required for this version of SciPy (detected version 1.26.2\n",
      "  warnings.warn(f\"A NumPy version >={np_minversion} and <{np_maxversion}\"\n",
      "/home/mv/.local/lib/python3.10/site-packages/scipy/__init__.py:146: UserWarning: A NumPy version >=1.16.5 and <1.23.0 is required for this version of SciPy (detected version 1.26.2\n",
      "  warnings.warn(f\"A NumPy version >={np_minversion} and <{np_maxversion}\"\n",
      "/home/mv/.local/lib/python3.10/site-packages/scipy/__init__.py:146: UserWarning: A NumPy version >=1.16.5 and <1.23.0 is required for this version of SciPy (detected version 1.26.2\n",
      "  warnings.warn(f\"A NumPy version >={np_minversion} and <{np_maxversion}\"\n",
      "/home/mv/.local/lib/python3.10/site-packages/scipy/__init__.py:146: UserWarning: A NumPy version >=1.16.5 and <1.23.0 is required for this version of SciPy (detected version 1.26.2\n",
      "  warnings.warn(f\"A NumPy version >={np_minversion} and <{np_maxversion}\"\n",
      "/home/mv/.local/lib/python3.10/site-packages/scipy/__init__.py:146: UserWarning: A NumPy version >=1.16.5 and <1.23.0 is required for this version of SciPy (detected version 1.26.2\n",
      "  warnings.warn(f\"A NumPy version >={np_minversion} and <{np_maxversion}\"\n",
      "/home/mv/.local/lib/python3.10/site-packages/scipy/__init__.py:146: UserWarning: A NumPy version >=1.16.5 and <1.23.0 is required for this version of SciPy (detected version 1.26.2\n",
      "  warnings.warn(f\"A NumPy version >={np_minversion} and <{np_maxversion}\"\n",
      "/home/mv/.local/lib/python3.10/site-packages/scipy/__init__.py:146: UserWarning: A NumPy version >=1.16.5 and <1.23.0 is required for this version of SciPy (detected version 1.26.2\n",
      "  warnings.warn(f\"A NumPy version >={np_minversion} and <{np_maxversion}\"\n",
      "/home/mv/.local/lib/python3.10/site-packages/scipy/__init__.py:146: UserWarning: A NumPy version >=1.16.5 and <1.23.0 is required for this version of SciPy (detected version 1.26.2\n",
      "  warnings.warn(f\"A NumPy version >={np_minversion} and <{np_maxversion}\"\n",
      "/home/mv/.local/lib/python3.10/site-packages/scipy/__init__.py:146: UserWarning: A NumPy version >=1.16.5 and <1.23.0 is required for this version of SciPy (detected version 1.26.2\n",
      "  warnings.warn(f\"A NumPy version >={np_minversion} and <{np_maxversion}\"\n",
      "/home/mv/.local/lib/python3.10/site-packages/scipy/__init__.py:146: UserWarning: A NumPy version >=1.16.5 and <1.23.0 is required for this version of SciPy (detected version 1.26.2\n",
      "  warnings.warn(f\"A NumPy version >={np_minversion} and <{np_maxversion}\"\n",
      "/home/mv/.local/lib/python3.10/site-packages/scipy/__init__.py:146: UserWarning: A NumPy version >=1.16.5 and <1.23.0 is required for this version of SciPy (detected version 1.26.2\n",
      "  warnings.warn(f\"A NumPy version >={np_minversion} and <{np_maxversion}\"\n",
      "/home/mv/.local/lib/python3.10/site-packages/scipy/__init__.py:146: UserWarning: A NumPy version >=1.16.5 and <1.23.0 is required for this version of SciPy (detected version 1.26.2\n",
      "  warnings.warn(f\"A NumPy version >={np_minversion} and <{np_maxversion}\"\n",
      "/home/mv/.local/lib/python3.10/site-packages/scipy/__init__.py:146: UserWarning: A NumPy version >=1.16.5 and <1.23.0 is required for this version of SciPy (detected version 1.26.2\n",
      "  warnings.warn(f\"A NumPy version >={np_minversion} and <{np_maxversion}\"\n",
      "/home/mv/.local/lib/python3.10/site-packages/scipy/__init__.py:146: UserWarning: A NumPy version >=1.16.5 and <1.23.0 is required for this version of SciPy (detected version 1.26.2\n",
      "  warnings.warn(f\"A NumPy version >={np_minversion} and <{np_maxversion}\"\n"
     ]
    },
    {
     "name": "stdout",
     "output_type": "stream",
     "text": [
      "accuracy: 0.036\n",
      "macro f1 score: 0.00605744012743054\n",
      "micro f1 score: 0.036\n",
      "hamming loss: 0.964\n"
     ]
    }
   ],
   "source": [
    "import sklearn.metrics as metrics\n",
    "from sklearn.multiclass import OneVsRestClassifier\n",
    "from sklearn.linear_model import SGDClassifier\n",
    "\n",
    "classifier = OneVsRestClassifier(SGDClassifier(loss='log_loss', alpha=0.00001, penalty='l1'), n_jobs=-1)\n",
    "classifier.fit(x_train_multilabel, y_train)\n",
    "\n",
    "predictions = classifier.predict(x_test_multilabel)\n",
    "print(\"accuracy:\", metrics.accuracy_score(y_test, predictions))\n",
    "print(\"macro f1 score:\", metrics.f1_score(y_test, predictions, average='macro'))\n",
    "print(\"micro f1 score:\", metrics.f1_score(y_test, predictions, average='micro'))\n",
    "print(\"hamming loss:\", metrics.hamming_loss(y_test, predictions))\n"
   ]
  },
  {
   "cell_type": "code",
   "execution_count": null,
   "metadata": {},
   "outputs": [],
   "source": [
    "pred = pd.DataFrame(predictions)\n",
    "display(pred)\n",
    "test = pd.DataFrame(X_test)\n",
    "test = test.reset_index()\n",
    "display(test)\n",
    "result = test.join(pred)\n",
    "display(result)"
   ]
  },
  {
   "cell_type": "code",
   "execution_count": null,
   "metadata": {},
   "outputs": [],
   "source": [
    "# import pickle\n",
    "# pickle.dump(classifier,open('model.pkl','wb'))"
   ]
  },
  {
   "cell_type": "code",
   "execution_count": null,
   "metadata": {},
   "outputs": [
    {
     "name": "stdout",
     "output_type": "stream",
     "text": [
      "Generated tags: [\"['c#']\"]\n"
     ]
    },
    {
     "ename": "",
     "evalue": "",
     "output_type": "error",
     "traceback": [
      "\u001b[1;31mThe Kernel crashed while executing code in the the current cell or a previous cell. Please review the code in the cell(s) to identify a possible cause of the failure. Click <a href='https://aka.ms/vscodeJupyterKernelCrash'>here</a> for more info. View Jupyter <a href='command:jupyter.viewOutput'>log</a> for further details."
     ]
    }
   ],
   "source": [
    "def personal_predict(new_question):\n",
    "    vector = vectorizer.transform([new_question])\n",
    "    predicted_tags = classifier.predict(vector)\n",
    "    return predicted_tags\n",
    "    \n",
    "\n",
    "\n",
    "\n",
    "new_question = \"\"\"How to avoid instanceof and casting interface to class\n",
    "\n",
    "I'd like to avoid instanceof and casting interface to class. I have method with parameter of interface FFF and depending on whether fff is class AAA or TTT I call appropriate private method. In one of these methods I have to call fff.methodSpecificForOnlyOneImplementationOfInterfaceFFF\n",
    "\n",
    "I have entities:\n",
    "\n",
    "public interface FFF {\n",
    "    Long getShipperId();\n",
    "\n",
    "    default void updatePermissions(final Permission updatedPermissions) {\n",
    "        ...\n",
    "    }\n",
    "}\n",
    "\n",
    "public class AAA implements FFF {\n",
    "    \n",
    "}\n",
    "\n",
    "public class TTT implements FFF {\n",
    "    \n",
    "}\n",
    "And I have Service:\n",
    "\n",
    "public void updatePermissions(FFF fff) {\n",
    "        final SomeClass someVariable;\n",
    "        if (fff instanceof TTT) {\n",
    "            someVariable = Optional.ofNullable(...)\n",
    "                    .map(...)\n",
    "                    .orElseGet(() -> createDefaultSettings(fff.getShipperId()));\n",
    "        } else {\n",
    "            someVariable= Optional.ofNullable(...)\n",
    "                    .map(...)\n",
    "                    .orElseGet(() -> returnPermissions(forwardable));\n",
    "        }\n",
    "        fff.updatePermissions(someVariable);\n",
    "}\n",
    "\n",
    "private createDefaultSettings(Long id){\n",
    "...\n",
    "}\n",
    "\n",
    "private returnPermissions(FFF fff) {\n",
    "    AAA aaa= (AAA) fff;\n",
    "        return Optional.ofNullable(aaa.getWindow()) // There is no getWindow() in FFF interface\n",
    "                .map(Window::getPermissions)\n",
    "                .map(...)\n",
    "                .orElseGet(() -> createDefaultSettings(aaa.getShipperId()));\n",
    "}\n",
    "\n",
    "How to avoid instanceof and casting AAA aaa= (AAA) fff;? Or maybe that's ok? Maybe there is better solution for it?\n",
    " \"\"\"\n",
    "\n",
    "# Generate tags for the new question\n",
    "generated_tags = personal_predict(new_question)\n",
    "\n",
    "# Print the generated tags\n",
    "print(\"Generated tags:\", generated_tags)"
   ]
  }
 ],
 "metadata": {
  "kernelspec": {
   "display_name": "Python 3",
   "language": "python",
   "name": "python3"
  },
  "language_info": {
   "codemirror_mode": {
    "name": "ipython",
    "version": 3
   },
   "file_extension": ".py",
   "mimetype": "text/x-python",
   "name": "python",
   "nbconvert_exporter": "python",
   "pygments_lexer": "ipython3",
   "version": "3.10.12"
  }
 },
 "nbformat": 4,
 "nbformat_minor": 2
}
