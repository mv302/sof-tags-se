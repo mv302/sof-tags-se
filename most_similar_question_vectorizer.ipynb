{
 "cells": [
  {
   "cell_type": "code",
   "execution_count": 2,
   "metadata": {},
   "outputs": [
    {
     "name": "stdout",
     "output_type": "stream",
     "text": [
      "Generated tags: ['python', 'email', 'refactoring', 'poplib']\n"
     ]
    }
   ],
   "source": [
    "import pandas as pd\n",
    "import numpy as np\n",
    "from sklearn.feature_extraction.text import TfidfVectorizer\n",
    "\n",
    "#Read the text and tag data from the CSV file\n",
    "data = pd.read_csv('textNtags.csv')\n",
    "data = data[:5000]\n",
    "texts = data['text'].tolist()\n",
    "tags = data['Tag'].tolist()\n",
    "\n",
    "# Create a TfidfVectorizer object to represent the text data\n",
    "vectorizer = TfidfVectorizer()\n",
    "text_vectors = vectorizer.fit_transform(texts)\n",
    "\n",
    "# Define a function to generate tags for a new question\n",
    "    # Convert the new question to a vector\n",
    "def generate_tags(new_question):\n",
    "    new_question_vector = vectorizer.transform([new_question])\n",
    "\n",
    "    # Calculate the cosine similarity between the new question vector and all the existing text vectors\n",
    "    cosine_similarities = new_question_vector.dot(text_vectors.T).todense()\n",
    "    # Get the index of the most similar text entry\n",
    "    most_similar_index = cosine_similarities.argmax()\n",
    "\n",
    "    taggy = tags[most_similar_index]\n",
    "\n",
    "    # Get the tags for the most similar text entry\n",
    "    # taggy = tags[most_similar_index]\n",
    "    # Return the tags\n",
    "    return taggy\n",
    "\n",
    "\n",
    "\n",
    "# Get a new question from the user\n",
    "new_question = \"\"\"What is the use of the yield keyword in Python? What does it do?\n",
    "\n",
    "For example, I'm trying to understand this code1:\n",
    "\n",
    "def _get_child_candidates(self, distance, min_dist, max_dist):\n",
    "    if self._leftchild and distance - max_dist < self._median:\n",
    "        yield self._leftchild\n",
    "    if self._rightchild and distance + max_dist >= self._median:\n",
    "        yield self._rightchild  \n",
    "And this is the caller:\n",
    "\n",
    "result, candidates = [], [self]\n",
    "while candidates:\n",
    "    node = candidates.pop()\n",
    "    distance = node._get_dist(obj)\n",
    "    if distance <= max_dist and distance >= min_dist:\n",
    "        result.extend(node._values)\n",
    "    candidates.extend(node._get_child_candidates(distance, min_dist, max_dist))\n",
    "return result\n",
    "What happens when the method _get_child_candidates is called? Is a list returned? A single element? Is it called again? When will subsequent calls stop?\n",
    " \"\"\"\n",
    "\n",
    "# Generate tags for the new question\n",
    "generated_tags = generate_tags(new_question)\n",
    "\n",
    "# Print the generated tags\n",
    "print(\"Generated tags:\", generated_tags)\n"
   ]
  }
 ],
 "metadata": {
  "kernelspec": {
   "display_name": "Python 3",
   "language": "python",
   "name": "python3"
  },
  "language_info": {
   "codemirror_mode": {
    "name": "ipython",
    "version": 3
   },
   "file_extension": ".py",
   "mimetype": "text/x-python",
   "name": "python",
   "nbconvert_exporter": "python",
   "pygments_lexer": "ipython3",
   "version": "3.10.12"
  }
 },
 "nbformat": 4,
 "nbformat_minor": 2
}
